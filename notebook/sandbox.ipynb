{
 "cells": [
  {
   "cell_type": "code",
   "execution_count": null,
   "id": "535b5227",
   "metadata": {},
   "outputs": [
    {
     "name": "stdout",
     "output_type": "stream",
     "text": [
      "/scratch/htc/khiroshi/calt-dev/calt-codebase\n"
     ]
    }
   ],
   "source": [
    "# Initially at notebook directory, so step into the root directory\n",
    "%pwd  # in notebook directory\n",
    "%cd \"..\" "
   ]
  },
  {
   "cell_type": "markdown",
   "id": "861224d4",
   "metadata": {},
   "source": [
    "## Load dataset"
   ]
  },
  {
   "cell_type": "code",
   "execution_count": null,
   "id": "b3091e54",
   "metadata": {},
   "outputs": [],
   "source": [
    "from sage.all import *\n",
    "\n",
    "import json\n",
    "with open(\"dataset/sagemath/GB_initial_problem/GF7_n=3/test_data.json\", \"r\") as f:\n",
    "    testset = json.load(f)\n",
    "    \n",
    "ring = PolynomialRing(GF(7), 3, \"x\", order=\"degrevlex\")\n",
    "\n",
    "Fs, Gs = [], []\n",
    "for data in dataset: \n",
    "    F = list(map(lambda x: ring(x), data['input']))  # ring() maps a polynomial in text to a polynomial object.\n",
    "    G = list(map(lambda x: ring(x), data['output']))\n",
    "    Fs.append(F)\n",
    "    Gs.append(G)"
   ]
  },
  {
   "cell_type": "markdown",
   "id": "3bdd41f8",
   "metadata": {},
   "source": [
    "## Load Model"
   ]
  },
  {
   "cell_type": "code",
   "execution_count": null,
   "id": "5b1e322c",
   "metadata": {},
   "outputs": [],
   "source": []
  }
 ],
 "metadata": {
  "kernelspec": {
   "display_name": "mq-oracle-exp",
   "language": "python",
   "name": "python3"
  },
  "language_info": {
   "codemirror_mode": {
    "name": "ipython",
    "version": 3
   },
   "file_extension": ".py",
   "mimetype": "text/x-python",
   "name": "python",
   "nbconvert_exporter": "python",
   "pygments_lexer": "ipython3",
   "version": "3.12.11"
  }
 },
 "nbformat": 4,
 "nbformat_minor": 5
}
