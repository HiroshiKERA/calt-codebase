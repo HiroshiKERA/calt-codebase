{
 "cells": [
  {
   "cell_type": "code",
   "execution_count": 1,
   "id": "535b5227",
   "metadata": {},
   "outputs": [
    {
     "name": "stdout",
     "output_type": "stream",
     "text": [
      "/scratch/htc/khiroshi/calt-dev/calt-codebase\n"
     ]
    }
   ],
   "source": [
    "# Initially at notebook directory, so step into the root directory (Run this once once)\n",
    "%pwd  # in notebook directory\n",
    "%cd \"..\" "
   ]
  },
  {
   "cell_type": "markdown",
   "id": "861224d4",
   "metadata": {},
   "source": [
    "## Load dataset"
   ]
  },
  {
   "cell_type": "code",
   "execution_count": 2,
   "id": "b3091e54",
   "metadata": {},
   "outputs": [],
   "source": [
    "from sage.all import GF, PolynomialRing\n",
    "\n",
    "import json\n",
    "with open(\"dataset/partial_sum/GF7_n=3/test_data.jsonl\", \"r\") as f:\n",
    "    dataset = [json.loads(line) for line in f]\n",
    "    \n",
    "ring = PolynomialRing(GF(7), 3, \"x\", order=\"degrevlex\")\n",
    "\n",
    "Fs, Gs = [], []\n",
    "for data in dataset: \n",
    "    F = list(map(lambda x: ring(x), data['problem']))  # ring() maps a polynomial in text to a polynomial object.\n",
    "    G = list(map(lambda x: ring(x), data['solution']))\n",
    "    Fs.append(F)\n",
    "    Gs.append(G)"
   ]
  },
  {
   "cell_type": "markdown",
   "id": "3bdd41f8",
   "metadata": {},
   "source": [
    "## Load Model"
   ]
  },
  {
   "cell_type": "code",
   "execution_count": 15,
   "id": "ba6ca128",
   "metadata": {},
   "outputs": [],
   "source": [
    "from pathlib import Path\n",
    "from transformers import AutoModelForSeq2SeqLM\n",
    "from src.utils.chekcpoint import get_checkpoint_id\n",
    "\n",
    "use_checkpoint = True  # if True, load model from intermediate checkpoint of training\n",
    "model_path = Path('results/partial_sum/GF7_n=3')\n",
    "\n",
    "if use_checkpoint:\n",
    "    checkpoint_id = get_checkpoint_id(model_path)\n",
    "    model_path = model_path / f'checkpoint-{checkpoint_id}'\n",
    "\n",
    "model = AutoModelForSeq2SeqLM.from_pretrained(\n",
    "    model_path,\n",
    ")"
   ]
  },
  {
   "cell_type": "markdown",
   "id": "3e3bb1cf",
   "metadata": {},
   "source": [
    "## Generation"
   ]
  },
  {
   "cell_type": "markdown",
   "id": "0febd1c9",
   "metadata": {},
   "source": [
    "**Prepare dataloader**"
   ]
  },
  {
   "cell_type": "code",
   "execution_count": null,
   "id": "bdd5b25a",
   "metadata": {},
   "outputs": [
    {
     "name": "stderr",
     "output_type": "stream",
     "text": [
      "Loaded 100000 samples from dataset/partial_sum/GF7_n=3/train_raw.txt\n",
      "Loaded 1000 samples from dataset/partial_sum/GF7_n=3/test_raw.txt\n"
     ]
    }
   ],
   "source": [
    "from omegaconf import OmegaConf\n",
    "from calt import load_data\n",
    "from torch.utils.data import DataLoader\n",
    "\n",
    "# load training config\n",
    "model_path = Path('results/partial_sum/GF7_n=3')\n",
    "cfg = OmegaConf.load(model_path / 'train_example.yaml')  \n",
    "\n",
    "dataset, tokenizer, data_collator = load_data(\n",
    "        train_dataset_path=cfg.data.train_dataset_path,\n",
    "        test_dataset_path=cfg.data.test_dataset_path,\n",
    "        field=cfg.data.field,\n",
    "        num_variables=cfg.data.num_variables,\n",
    "        max_degree=cfg.data.max_degree,\n",
    "        max_coeff=cfg.data.max_coeff,\n",
    "        max_length=cfg.model.max_sequence_length,\n",
    "    )\n",
    "\n",
    "test_set = dataset['test']\n",
    "test_loader = DataLoader(test_set, batch_size=cfg.train.test_batch_size, shuffle=False, collate_fn=data_collator)"
   ]
  },
  {
   "cell_type": "markdown",
   "id": "5b73d24d",
   "metadata": {},
   "source": [
    "**forwarding**"
   ]
  },
  {
   "cell_type": "code",
   "execution_count": 20,
   "id": "7fb30c53",
   "metadata": {},
   "outputs": [],
   "source": [
    "batch = next(iter(test_loader))  # get the first batch\n",
    "outputs = model(**batch)"
   ]
  },
  {
   "cell_type": "markdown",
   "id": "6612be96",
   "metadata": {},
   "source": [
    "**generation**"
   ]
  },
  {
   "cell_type": "code",
   "execution_count": 33,
   "id": "2ef10564",
   "metadata": {},
   "outputs": [
    {
     "name": "stdout",
     "output_type": "stream",
     "text": [
      "['C1 E0 E1 E0 C-2 E0 E0 E1 [SEP] C-3 E3 E2 E1 C-1 E0 E0 E2 C3 E0 E1 E0 C-2 E0 E0 E1 [SEP] C-3 E3 E2 E1 C1 E0 E0 E4 C-1 E0 E0 E2 C3 E0 E1 E0 C-2 E0 E0 E1', 'C3 E1 E0 E0 C-2 E0 E1 E0 [SEP] C2 E1 E1 E0 C3 E0 E0 E2 C1 E1 E0 E0 C-2 E0 E1 E0 C-3 E0 E0 E0 [SEP] C2 E1 E1 E0 C-2 E0 E1 E1 C3 E0 E0 E2 C1 E1 E0 E0 C2 E0 E1 E0 C2 E0 E0 E1 C-3 E0 E0 E0', 'C3 E0 E1 E0 [SEP] C-1 E1 E3 E4 C-3 E1 E0 E1 C-2 E0 E0 E2 C3 E0 E1 E0', 'C-2 E3 E1 E1 C2 E0 E0 E4 C1 E1 E1 E0 [SEP] C-2 E3 E1 E1 C2 E0 E0 E4 C1 E1 E1 E0 C-3 E1 E0 E0 [SEP] C2 E2 E2 E3 C2 E0 E0 E4 C1 E2 E1 E0 C1 E1 E1 E0 C-3 E1 E0 E0 [SEP] C2 E2 E2 E3 C2 E0 E0 E4 C1 E2 E1 E0 C1 E1 E1 E0 C2 E1 E0 E0 [SEP] C2 E2 E2 E3 C2 E0 E0 E4 C1 E2 E1 E0 C1 E1 E1 E0', 'C-3 E1 E3 E0 C-3 E1 E2 E1 C-3 E0 E1 E1 C-2 E0 E0 E1 C-2 E0 E0 E0 [SEP] C-3 E1 E3 E0 C-3 E1 E2 E1 C-2 E1 E0 E3 C-3 E0 E1 E1 C3 E0 E1 E0 C-3 E0 E0 E1 C-2 E0 E0 E0 [SEP] C-3 E4 E1 E1 C-3 E3 E1 E2 C1 E2 E0 E3 C-3 E1 E3 E0 C-3 E1 E2 E1 C-2 E1 E0 E3 C-3 E0 E1 E1 C3 E1 E0 E0 C3 E0 E1 E0 C-3 E0 E0 E1 [SEP] C-3 E4 E1 E1 C-3 E3 E1 E2 C1 E2 E0 E3 C-3 E1 E3 E0 C-3 E1 E2 E1 C-2 E1 E0 E3 C2 E0 E3 E0 C-3 E2 E0 E0 C-3 E0 E1 E1 C3 E1 E0 E0 C1 E0 E1 E0 C-3 E0 E0 E1 [SEP] C-3 E4 E1 E1 C-3 E3 E1 E2 C1 E2 E0 E3 C-3 E1 E3 E0 C-3 E1 E2 E1 C-2 E1 E0 E3 C2 E0 E3 E0 C-3 E2 E0 E0 C-3 E0 E1 E1 C-2 E1 E0 E0 C1 E0 E1 E0 C-3 E0 E0 E1', 'C3 E0 E3 E4 C3 E1 E0 E3 C3 E2 E0 E1 C-2 E1 E1 E0 C3 E1 E0 E0 [SEP] C3 E0 E3 E4 C2 E1 E2 E1 C3 E1 E0 E3 C3 E2 E0 E1 C-2 E1 E1 E0 C-1 E0 E0 E2 C3 E1 E0 E0 [SEP] C3 E0 E3 E4 C-2 E0 E0 E5 C1 E0 E4 E0 C2 E1 E2 E1 C3 E1 E0 E3 C3 E2 E0 E1 C-2 E1 E1 E0 C-1 E0 E0 E2 C3 E1 E0 E0 [SEP] C3 E0 E3 E4 C-2 E0 E0 E5 C1 E0 E4 E0 C2 E1 E2 E1 C3 E1 E0 E3 C3 E2 E0 E1 C-2 E1 E1 E0 C-1 E0 E0 E2 C-3 E1 E0 E0 C-2 E0 E1 E0 C2 E0 E0 E1 C-1 E0 E0 E0', 'C3 E2 E3 E0 C2 E3 E1 E0 C-3 E0 E0 E2 C-2 E0 E0 E1 C-1 E0 E0 E0 [SEP] C3 E2 E3 E0 C3 E0 E3 E2 C2 E3 E1 E0 C-3 E0 E0 E2 C-2 E0 E0 E1 C-1 E0 E0 E0', 'C-2 E3 E2 E1 C2 E1 E0 E0 [SEP] C-3 E3 E4 E0 C-2 E3 E2 E1 C-1 E1 E3 E0 C2 E1 E0 E0 C-3 E0 E1 E0', 'C-1 E2 E2 E0 C-2 E2 E0 E2 C-1 E0 E1 E3 C3 E1 E0 E2 C-3 E0 E0 E0 [SEP] C-1 E2 E2 E0 C-2 E2 E0 E2 C-1 E0 E1 E3 C3 E1 E0 E2 C-1 E0 E1 E0 C-3 E0 E0 E0', 'C-3 E2 E5 E2 C2 E0 E6 E2 C-2 E1 E3 E2 [SEP] C-3 E2 E5 E2 C2 E0 E6 E2 C-2 E1 E3 E2 C-3 E1 E0 E1 C1 E0 E0 E2 C-3 E0 E0 E1 C2 E0 E0 E0 [SEP] C-3 E2 E5 E2 C1 E3 E3 E3 C2 E0 E6 E2 C-2 E1 E3 E2 C-3 E0 E4 E1 C3 E1 E0 E3 C-3 E1 E0 E1 C3 E0 E1 E1 C1 E0 E0 E2 C-3 E0 E1 E0 C-3 E0 E0 E1 C2 E0 E0 E0', 'C2 E1 E4 E0 C1 E0 E1 E4 C-1 E3 E0 E1 [SEP] C2 E1 E4 E0 C1 E0 E1 E4 C-1 E3 E0 E1 C-3 E2 E0 E0 C3 E1 E1 E0 C-1 E0 E0 E0', 'C-1 E6 E0 E0 C-2 E3 E1 E2 C1 E2 E0 E0 [SEP] C-1 E6 E0 E0 C-2 E3 E1 E2 C3 E0 E3 E0 C1 E2 E0 E0 [SEP] C3 E2 E1 E4 C-1 E6 E0 E0 C3 E1 E4 E1 C-2 E3 E1 E2 C-3 E1 E2 E3 C3 E0 E3 E0 C1 E2 E0 E0 C2 E0 E0 E2 C-3 E0 E0 E0 [SEP] C3 E2 E1 E4 C-3 E0 E0 E7 C-1 E6 E0 E0 C3 E1 E4 E1 C-2 E3 E1 E2 C-3 E1 E2 E3 C-1 E1 E4 E0 C3 E2 E0 E2 C3 E0 E3 E0 C-1 E0 E1 E2 C1 E2 E0 E0 C-3 E0 E0 E2 C-3 E0 E0 E0', 'C-1 E2 E0 E0 C-2 E1 E0 E0 C-1 E0 E1 E0 [SEP] C1 E0 E5 E2 C-1 E3 E1 E2 C-3 E2 E2 E0 C3 E1 E0 E3 C-1 E2 E0 E0 C2 E1 E1 E0 C-2 E1 E0 E0 C-1 E0 E1 E0 [SEP] C1 E0 E5 E2 C-1 E3 E1 E2 C-3 E2 E2 E0 C3 E1 E0 E3 C-1 E2 E0 E0 C-2 E1 E0 E0 C-1 E0 E1 E0 C-1 E0 E0 E0', 'C-1 E4 E0 E1 C1 E1 E0 E0 [SEP] C1 E0 E4 E5 C-1 E4 E4 E0 C-1 E4 E0 E1 C-2 E1 E3 E1 C-1 E1 E1 E0 C1 E1 E0 E0 C-2 E0 E0 E0', 'C-2 E1 E4 E2 C3 E5 E0 E0 [SEP] C3 E2 E3 E3 C-2 E1 E4 E2 C3 E5 E0 E0 C-1 E0 E1 E3 C-3 E0 E0 E0 [SEP] C3 E2 E3 E3 C-2 E1 E4 E2 C3 E5 E0 E0 C-1 E0 E1 E3 C2 E0 E2 E0 C-1 E0 E0 E0 [SEP] C3 E2 E3 E3 C-2 E1 E4 E2 C3 E5 E0 E0 C-1 E0 E1 E3 C1 E0 E2 E0 C-2 E0 E1 E1 C-3 E1 E0 E0 C-1 E0 E0 E0 [SEP] C3 E2 E3 E3 C-2 E1 E4 E2 C3 E5 E0 E0 C-3 E3 E0 E1 C-1 E0 E1 E3 C3 E3 E0 E0 C1 E0 E2 E0 C-2 E0 E1 E1 C-3 E1 E0 E0 C2 E0 E0 E1 C2 E0 E0 E0', 'C3 E1 E0 E0 [SEP] C1 E0 E1 E4 C-2 E0 E2 E1 C3 E1 E0 E0 C3 E0 E0 E0 [SEP] C1 E0 E1 E4 C-2 E0 E2 E1 C1 E1 E0 E0 C-3 E0 E0 E1', 'C-2 E1 E0 E2 C-3 E0 E1 E0 [SEP] C-2 E2 E2 E2 C3 E1 E0 E4 C-3 E1 E2 E0 C-2 E1 E0 E2 C-1 E0 E1 E1 C-3 E0 E1 E0 C-3 E0 E0 E0 [SEP] C-2 E2 E2 E2 C3 E1 E0 E4 C-3 E1 E2 E0 C-2 E1 E0 E2 C-1 E0 E1 E1 C-3 E0 E1 E0 C3 E0 E0 E1 C-3 E0 E0 E0 [SEP] C2 E3 E6 E1 C-2 E2 E2 E2 C3 E1 E0 E4 C-3 E1 E2 E0 C-2 E1 E0 E2 C-1 E1 E1 E0 C-1 E0 E1 E1 C2 E0 E1 E0 C3 E0 E0 E1 C-1 E0 E0 E0 [SEP] C2 E3 E6 E1 C-2 E2 E2 E2 C3 E1 E0 E4 C2 E2 E1 E0 C-3 E1 E2 E0 C-2 E1 E0 E2 C-1 E1 E1 E0 C-1 E0 E1 E1 C2 E0 E1 E0 C3 E0 E0 E1 C-1 E0 E0 E0', 'C-2 E1 E0 E0 C-1 E0 E1 E0 C-1 E0 E0 E1 [SEP] C1 E0 E0 E4 C1 E0 E0 E3 C-2 E1 E0 E0 C1 E0 E1 E0 C-1 E0 E0 E1 [SEP] C1 E0 E0 E4 C1 E0 E0 E3 C-2 E1 E0 E0 C1 E0 E1 E0 C-3 E0 E0 E1 C2 E0 E0 E0', 'C2 E1 E1 E0 C-1 E0 E2 E0 C-3 E0 E0 E0 [SEP] C2 E1 E1 E0 C-1 E0 E2 E0 C-3 E0 E1 E0 C-3 E0 E0 E0 [SEP] C3 E5 E1 E0 C-1 E5 E0 E0 C-3 E2 E0 E3 C-3 E1 E0 E4 C1 E1 E1 E1 C2 E1 E1 E0 C-1 E0 E2 E0 C-3 E0 E1 E0 C-3 E0 E0 E0', 'C-2 E1 E1 E0 C3 E0 E1 E1 C1 E0 E1 E0 C-1 E0 E0 E0 [SEP] C1 E0 E0 E3 C-3 E1 E1 E0 C-1 E0 E2 E0 C-1 E1 E0 E1 C3 E0 E1 E1 C1 E0 E1 E0 C3 E0 E0 E1 C-1 E0 E0 E0 [SEP] C1 E0 E0 E3 C-3 E1 E1 E0 C-1 E0 E2 E0 C-1 E1 E0 E1 C3 E0 E1 E1 C-1 E1 E0 E0 C3 E0 E1 E0 C-2 E0 E0 E1 C2 E0 E0 E0', 'C3 E0 E0 E1 [SEP] C-1 E0 E1 E0 C3 E0 E0 E1 [SEP] C-1 E1 E1 E2 C-1 E0 E1 E0 C3 E0 E0 E1', 'C1 E1 E0 E0 C-2 E0 E0 E0 [SEP] C-1 E2 E0 E0 C1 E1 E0 E0 C-2 E0 E0 E0 [SEP] C-2 E3 E0 E2 C-3 E2 E0 E3 C2 E0 E4 E0 C1 E0 E2 E2 C-1 E2 E0 E0 C2 E1 E0 E0 C-2 E0 E0 E0', 'C-1 E1 E0 E0 C-1 E0 E0 E1 C3 E0 E0 E0 [SEP] C2 E1 E0 E0 C2 E0 E0 E1 C3 E0 E0 E0 [SEP] C2 E2 E1 E0 C1 E1 E1 E1 C3 E0 E2 E1 C-2 E1 E0 E0 C2 E0 E0 E1 [SEP] C-1 E0 E4 E0 C-3 E0 E2 E2 C2 E2 E1 E0 C1 E1 E1 E1 C3 E0 E2 E1 C-2 E1 E0 E0 C2 E0 E0 E1 C2 E0 E0 E0', 'C-2 E1 E2 E3 C2 E1 E1 E0 [SEP] C-2 E1 E2 E3 C2 E1 E1 E0 C1 E1 E0 E0 C2 E0 E0 E1 [SEP] C-2 E3 E1 E2 C-2 E1 E2 E3 C-3 E0 E3 E0 C2 E1 E1 E0 C-1 E0 E2 E0 C1 E1 E0 E0 C2 E0 E0 E1 [SEP] C-2 E3 E1 E2 C-2 E1 E2 E3 C1 E1 E0 E3 C-3 E0 E3 E0 C2 E1 E1 E0 C-1 E0 E2 E0 C-1 E0 E1 E1 C1 E1 E0 E0 C-1 E0 E1 E0 C2 E0 E0 E1 C3 E0 E0 E0 [SEP] C-2 E3 E1 E2 C-2 E1 E2 E3 C1 E1 E0 E3 C-3 E0 E3 E0 C2 E2 E0 E1 C2 E1 E1 E0 C-1 E0 E2 E0 C-1 E0 E1 E1 C1 E1 E0 E0 C-1 E0 E1 E0 C2 E0 E0 E1 C-1 E0 E0 E0', 'C2 E1 E0 E4 C-1 E0 E0 E1 [SEP] C-1 E1 E0 E5 C2 E1 E0 E4 C-1 E0 E0 E1 [SEP] C-1 E1 E0 E5 C2 E1 E0 E4 C-1 E1 E1 E0 C-2 E0 E0 E1 [SEP] C-1 E1 E0 E5 C2 E1 E0 E4 C2 E2 E0 E0 C-1 E1 E1 E0 C-1 E1 E0 E1 C3 E0 E0 E2 C-2 E0 E1 E0 C-2 E0 E0 E1', 'C-2 E2 E0 E1 C-2 E1 E0 E0 [SEP] C2 E0 E7 E0 C-2 E2 E0 E1 C-2 E1 E0 E0', 'C1 E0 E2 E1 C2 E2 E0 E0 C-1 E1 E0 E0 [SEP] C1 E5 E1 E2 C-2 E0 E3 E0 C1 E0 E2 E1 C2 E2 E0 E0 C-1 E1 E0 E0 [SEP] C1 E5 E1 E2 C2 E1 E3 E2 C-2 E0 E1 E3 C-2 E0 E3 E0 C1 E0 E2 E1 C2 E2 E0 E0 C-1 E1 E0 E0 [SEP] C1 E5 E1 E2 C2 E1 E3 E2 C-2 E2 E2 E1 C-2 E0 E1 E3 C-2 E0 E3 E0 C1 E0 E2 E1 C2 E2 E0 E0 C-2 E0 E1 E0 [SEP] C1 E5 E1 E2 C-1 E4 E1 E2 C2 E1 E3 E2 C-1 E2 E1 E3 C2 E4 E1 E0 C-2 E2 E2 E1 C1 E0 E2 E2 C-2 E0 E1 E3 C-2 E0 E3 E0 C1 E0 E2 E1 C2 E2 E0 E0 C-1 E1 E0 E0 C-2 E0 E1 E0', 'C-2 E1 E1 E2 [SEP] C-2 E1 E1 E2 C-2 E2 E1 E0 C-3 E0 E2 E1 C-1 E2 E0 E0 C-2 E1 E0 E1 C-1 E0 E1 E1', 'C3 E1 E0 E0 [SEP] C-3 E0 E3 E5 C3 E4 E0 E0 C-1 E1 E0 E0 C-1 E0 E0 E0 [SEP] C-3 E0 E3 E5 C-2 E0 E5 E0 C3 E4 E0 E0 C-1 E1 E0 E0 C3 E0 E0 E0', 'C3 E1 E5 E4 C3 E3 E3 E1 C-3 E0 E1 E4 C-3 E2 E0 E0 [SEP] C3 E1 E5 E4 C-3 E0 E9 E0 C3 E3 E3 E1 C-3 E0 E1 E4 C-3 E2 E0 E0 [SEP] C3 E1 E5 E4 C-3 E0 E9 E0 C3 E3 E2 E3 C3 E3 E3 E1 C-3 E0 E1 E4 C2 E0 E0 E3 C-3 E2 E0 E0', 'C1 E0 E4 E3 [SEP] C1 E0 E4 E3 C-3 E0 E1 E1 [SEP] C1 E0 E4 E3 C-3 E0 E1 E1 C-1 E1 E0 E0 C1 E0 E1 E0 C-3 E0 E0 E1 C-1 E0 E0 E0 [SEP] C1 E0 E4 E3 C-1 E0 E1 E1 C-1 E1 E0 E0 C1 E0 E1 E0 C-3 E0 E0 E1 C-1 E0 E0 E0 [SEP] C1 E0 E4 E3 C-2 E0 E2 E0 C-1 E0 E1 E1 C-1 E1 E0 E0 C1 E0 E1 E0 C-3 E0 E0 E1 C-1 E0 E0 E0', 'C1 E6 E2 E0 C1 E1 E0 E0 [SEP] C1 E6 E2 E0 C2 E2 E2 E1 C1 E1 E0 E0', 'C-1 E2 E1 E0 C-3 E0 E3 E0 C-2 E0 E2 E0 C-3 E0 E1 E0 [SEP] C-1 E2 E0 E2 C-1 E2 E1 E0 C-3 E0 E3 E0 C-2 E0 E2 E0 C-3 E0 E1 E0 [SEP] C-3 E2 E3 E2 C-1 E2 E0 E2 C-1 E2 E1 E0 C-3 E0 E3 E0 C-2 E0 E2 E0 C3 E0 E1 E1 C-3 E0 E1 E0 [SEP] C-3 E2 E3 E2 C-1 E2 E0 E2 C-1 E2 E1 E0 C-3 E0 E3 E0 C3 E1 E1 E0 C-2 E0 E2 E0 C3 E0 E1 E1', 'C-2 E1 E3 E0 C-1 E1 E1 E1 C1 E0 E0 E2 C-1 E0 E1 E0 [SEP] C2 E0 E0 E8 C-3 E4 E3 E0 C-3 E2 E2 E3 C3 E3 E0 E2 C-2 E1 E3 E0 C-1 E1 E1 E1 C1 E0 E0 E2 C-3 E0 E1 E0 [SEP] C2 E0 E0 E8 C-3 E4 E3 E0 C-3 E2 E2 E3 C3 E3 E0 E2 C-2 E0 E1 E4 C-2 E1 E3 E0 C-1 E1 E1 E1 C1 E0 E0 E2 C-3 E0 E1 E0 C3 E0 E0 E0', 'C2 E0 E1 E3 C3 E0 E2 E1 C3 E1 E0 E0 C2 E0 E0 E1 [SEP] C2 E0 E1 E3 C3 E0 E2 E1 C3 E1 E0 E0 C1 E0 E0 E1 [SEP] C2 E0 E1 E3 C3 E0 E2 E1 C3 E1 E0 E0 C3 E0 E1 E0 C-3 E0 E0 E1 [SEP] C2 E0 E1 E3 C1 E3 E0 E0 C3 E0 E2 E1 C3 E0 E2 E0 C-2 E0 E1 E1 C-3 E1 E0 E0 C3 E0 E1 E0 C-3 E0 E0 E1', 'C-2 E1 E0 E0 C-3 E0 E0 E0 [SEP] C-2 E0 E0 E2 C-2 E1 E0 E0 C-1 E0 E1 E0 C1 E0 E0 E1 C1 E0 E0 E0 [SEP] C1 E3 E2 E0 C-2 E0 E0 E2 C-2 E1 E0 E0 C-1 E0 E1 E0 C1 E0 E0 E1 C1 E0 E0 E0 [SEP] C1 E3 E2 E0 C2 E1 E1 E3 C-3 E0 E1 E3 C-2 E0 E0 E2 C-2 E1 E0 E0 C-1 E0 E1 E0 C1 E0 E0 E1 C1 E0 E0 E0 [SEP] C1 E3 E2 E0 C2 E1 E1 E3 C-1 E2 E1 E1 C-3 E0 E1 E3 C-3 E1 E1 E1 C-1 E1 E1 E0 C-2 E0 E0 E2 C-1 E0 E1 E0 C1 E0 E0 E1 C-1 E0 E0 E0', 'C2 E0 E1 E0 C-3 E0 E0 E1 [SEP] C-1 E2 E0 E0 C-1 E1 E0 E0 C1 E0 E1 E0 C-1 E0 E0 E1 C-1 E0 E0 E0 [SEP] C-3 E2 E0 E2 C2 E1 E2 E0 C2 E0 E2 E1 C-1 E2 E0 E0 C-1 E1 E0 E0 C2 E0 E1 E0 C-1 E0 E0 E1 C-3 E0 E0 E0 [SEP] C3 E1 E1 E4 C-2 E1 E2 E1 C-3 E2 E0 E2 C2 E1 E2 E0 C2 E0 E2 E1 C-1 E2 E0 E0 C-2 E0 E1 E1 C1 E1 E0 E0 C2 E0 E1 E0 C-1 E0 E0 E1 C-3 E0 E0 E0 [SEP] C3 E1 E1 E4 C-2 E1 E2 E1 C-3 E2 E0 E2 C2 E1 E2 E0 C2 E0 E2 E1 C-3 E2 E0 E0 C-2 E0 E1 E1 C1 E1 E0 E0 C-1 E0 E1 E0 C-1 E0 E0 E1 C-3 E0 E0 E0 C2 E0 E0 E1', 'C-3 E0 E3 E4 C-3 E1 E0 E1 [SEP] C3 E6 E2 E1 C-3 E0 E3 E4 C2 E1 E0 E5 C-3 E1 E0 E1 [SEP] C3 E6 E2 E1 C-3 E0 E3 E4 C2 E1 E0 E5 C-3 E0 E2 E1 C-2 E1 E1 E0 C-3 E1 E0 E1 C2 E0 E1 E0 C-1 E0 E0 E0', 'C3 E0 E1 E0 C1 E0 E0 E0 [SEP] C1 E1 E0 E0 C-2 E0 E1 E0 C2 E0 E0 E0 [SEP] C1 E1 E0 E0 C-3 E0 E1 E0 C2 E0 E0 E0 [SEP] C-2 E3 E3 E2 C-1 E1 E0 E7 C-2 E1 E2 E3 C3 E1 E0 E5 C1 E1 E0 E0 C-3 E0 E1 E0 C2 E0 E0 E0 [SEP] C-2 E3 E3 E2 C-1 E1 E0 E7 C-2 E1 E2 E3 C3 E1 E0 E5 C-1 E3 E2 E0 C2 E2 E3 E0 C-3 E1 E1 E1 C3 E0 E0 E2 C1 E1 E0 E0 C-3 E0 E1 E0 C2 E0 E0 E0', 'C-3 E2 E4 E0 C3 E3 E2 E0 C-3 E0 E0 E0 [SEP] C2 E0 E0 E10 C-2 E1 E3 E4 C-3 E2 E4 E0 C3 E3 E2 E0 C-1 E1 E3 E0 C2 E0 E0 E0', 'C1 E0 E1 E1 [SEP] C-1 E1 E0 E1 C1 E0 E1 E1 C-3 E1 E0 E0 C-1 E0 E1 E0 C-1 E0 E0 E1 C1 E0 E0 E0 [SEP] C-1 E1 E0 E1 C1 E0 E1 E1 C-1 E1 E0 E0 C-1 E0 E1 E0 C-1 E0 E0 E1 C1 E0 E0 E0 [SEP] C1 E0 E3 E2 C1 E0 E2 E0 C-1 E1 E0 E1 C1 E0 E1 E1 C-1 E1 E0 E0 C-1 E0 E1 E0 C-1 E0 E0 E1 C1 E0 E0 E0 [SEP] C1 E0 E3 E2 C-3 E1 E2 E1 C1 E2 E0 E0 C-3 E1 E1 E0 C1 E0 E2 E0 C-1 E1 E0 E1 C1 E0 E1 E1 C1 E1 E0 E0 C-1 E0 E1 E0 C-1 E0 E0 E1 C-3 E0 E0 E0', 'C1 E1 E0 E0 [SEP] C1 E0 E0 E4 C-1 E1 E0 E1 C1 E1 E0 E0 C1 E0 E0 E0 [SEP] C3 E4 E2 E3 C-3 E1 E5 E1 C-3 E1 E2 E1 C1 E0 E0 E4 C-1 E1 E1 E1 C-1 E1 E0 E1 C1 E1 E0 E0 C1 E0 E0 E0 [SEP] C3 E4 E2 E3 C-3 E1 E5 E1 C-3 E1 E2 E1 C1 E0 E0 E4 C-1 E1 E1 E1 C-1 E1 E0 E1 C-2 E1 E0 E0 C1 E0 E0 E0 [SEP] C3 E4 E2 E3 C-3 E1 E5 E1 C-3 E1 E2 E1 C1 E0 E0 E4 C-1 E1 E1 E1 C-1 E1 E0 E1 C-1 E1 E0 E0 C1 E0 E0 E1 C-3 E0 E0 E0', 'C3 E0 E0 E1 [SEP] C1 E0 E0 E2 C3 E0 E0 E1 C-1 E0 E0 E0 [SEP] C2 E2 E1 E1 C3 E1 E1 E2 C1 E0 E0 E2 C3 E0 E0 E1 C2 E0 E0 E0 [SEP] C2 E2 E1 E1 C3 E1 E1 E2 C1 E0 E0 E2 C-1 E1 E0 E0 C2 E0 E1 E0 C-2 E0 E0 E1 C-3 E0 E0 E0', 'C-2 E6 E0 E0 C2 E1 E4 E0 C-1 E3 E1 E0 C-1 E1 E1 E1 [SEP] C-2 E6 E0 E0 C-1 E1 E4 E1 C2 E1 E4 E0 C-1 E3 E1 E0 C-1 E1 E1 E1 C1 E0 E1 E2 C-3 E0 E1 E0 [SEP] C-2 E6 E0 E0 C-1 E1 E4 E1 C2 E1 E4 E0 C-2 E4 E0 E0 C-1 E3 E1 E0 C-1 E1 E1 E1 C1 E0 E2 E1 C1 E0 E1 E2 C1 E1 E0 E0 C-3 E0 E1 E0 [SEP] C-2 E6 E0 E0 C-1 E1 E4 E1 C2 E1 E4 E0 C-2 E4 E0 E0 C-1 E3 E1 E0 C-1 E1 E1 E1 C1 E0 E2 E1 C1 E0 E1 E2 C1 E0 E2 E0 C-1 E1 E0 E1 C3 E0 E0 E2 C1 E1 E0 E0 C2 E0 E1 E0 C3 E0 E0 E0 [SEP] C-2 E6 E0 E0 C-1 E1 E4 E1 C2 E1 E4 E0 C-2 E4 E0 E0 C-1 E3 E1 E0 C-2 E2 E2 E0 C-1 E1 E1 E1 C1 E0 E2 E1 C1 E0 E1 E2 C3 E1 E1 E0 C1 E0 E2 E0 C-1 E1 E0 E1 C3 E0 E0 E2 C1 E1 E0 E0 C2 E0 E1 E0 C-3 E0 E0 E0', 'C-1 E2 E2 E0 C-3 E1 E0 E3 C1 E1 E1 E0 C-1 E0 E0 E0 [SEP] C-1 E2 E2 E0 C-3 E1 E0 E3 C2 E1 E1 E1 C1 E1 E1 E0 C3 E0 E0 E2 C-1 E0 E1 E0 C-1 E0 E0 E1 C2 E0 E0 E0', 'C1 E7 E2 E1 C-2 E0 E3 E0 [SEP] C1 E7 E2 E1 C1 E3 E0 E1 C2 E3 E0 E0 C-2 E0 E3 E0 [SEP] C1 E7 E2 E1 C1 E3 E0 E1 C2 E3 E0 E0 C-2 E0 E3 E0 C3 E0 E0 E2 C2 E0 E0 E0 [SEP] C1 E7 E2 E1 C1 E3 E0 E1 C2 E3 E0 E0 C-2 E0 E3 E0 C3 E0 E0 E2 C-2 E0 E0 E1 C2 E0 E0 E0', 'C2 E2 E2 E1 C-2 E2 E0 E0 C-1 E0 E1 E0 C-2 E0 E0 E0 [SEP] C2 E2 E2 E1 C-1 E0 E3 E0 C3 E0 E1 E2 C-2 E2 E0 E0 C-1 E0 E1 E0 C-1 E0 E0 E1 C-2 E0 E0 E0', 'C3 E0 E1 E0 [SEP] C-1 E1 E0 E5 C3 E0 E1 E0 [SEP] C-1 E1 E0 E5 C2 E1 E1 E1 C-2 E1 E0 E0 C3 E0 E1 E0 C3 E0 E0 E0', 'C1 E0 E1 E1 [SEP] C-1 E3 E4 E2 C-1 E1 E7 E0 C-3 E0 E2 E5 C3 E1 E2 E1 C1 E0 E1 E1 [SEP] C-1 E3 E4 E2 C-1 E1 E7 E0 C-3 E0 E2 E5 C1 E2 E2 E0 C3 E1 E2 E1 C-2 E0 E1 E1 C-3 E0 E0 E2 C-1 E1 E0 E0 C1 E0 E0 E0', 'C-1 E1 E0 E0 [SEP] C2 E2 E0 E2 C3 E0 E2 E2 C3 E2 E0 E1 C2 E2 E0 E0 C-1 E1 E0 E0 C-2 E0 E0 E1 [SEP] C2 E2 E0 E2 C3 E0 E2 E2 C1 E2 E1 E0 C3 E2 E0 E1 C2 E2 E0 E0 C-1 E0 E0 E2 C-1 E1 E0 E0 C-2 E0 E0 E1 C1 E0 E0 E0 [SEP] C-3 E2 E5 E0 C3 E2 E1 E3 C2 E2 E0 E2 C3 E0 E2 E2 C1 E2 E1 E0 C3 E2 E0 E1 C2 E1 E0 E2 C2 E2 E0 E0 C-1 E0 E0 E2 C-1 E1 E0 E0 C-2 E0 E0 E1', 'C-2 E0 E2 E0 C-3 E1 E0 E1 C2 E0 E0 E0 [SEP] C1 E3 E1 E1 C-2 E0 E2 E0 C-3 E1 E0 E1 C2 E0 E0 E0 [SEP] C1 E3 E1 E1 C-2 E0 E2 E0 C-1 E1 E0 E1 C3 E0 E1 E1 C2 E0 E0 E2 C2 E1 E0 E0 C-1 E0 E0 E0', 'C3 E1 E0 E2 C1 E0 E0 E1 [SEP] C3 E3 E0 E0 C3 E1 E0 E2 C3 E2 E0 E0 C1 E0 E0 E1', 'C-3 E2 E1 E0 C3 E0 E2 E1 C-1 E0 E0 E0 [SEP] C1 E4 E1 E2 C-3 E2 E1 E0 C3 E0 E2 E1 C-1 E0 E0 E0', 'C-1 E3 E0 E5 C2 E4 E1 E0 C-2 E0 E1 E0 [SEP] C-1 E3 E0 E5 C2 E4 E1 E0 C1 E1 E0 E0 C3 E0 E1 E0 C1 E0 E0 E1 C-2 E0 E0 E0 [SEP] C-3 E5 E4 E0 C-1 E3 E0 E5 C2 E4 E1 E0 C1 E1 E0 E0 C3 E0 E1 E0 C1 E0 E0 E1 C-1 E0 E0 E0', 'C2 E2 E0 E1 [SEP] C2 E2 E0 E1 C-3 E0 E0 E1 [SEP] C1 E0 E1 E6 C2 E2 E0 E1 C3 E1 E1 E0 C-3 E0 E0 E1', 'C-3 E2 E1 E0 C3 E0 E1 E1 C-3 E0 E0 E1 C3 E0 E0 E0 [SEP] C-3 E2 E1 E0 C-3 E0 E0 E1 C3 E0 E0 E0 [SEP] C3 E0 E3 E2 C-1 E1 E0 E4 C-1 E3 E0 E0 C-3 E2 E1 E0 C-3 E0 E3 E0 C-2 E0 E1 E0 C-3 E0 E0 E1 C3 E0 E0 E0 [SEP] C-3 E1 E3 E1 C3 E0 E3 E2 C-1 E1 E0 E4 C-1 E3 E0 E0 C-3 E2 E1 E0 C-3 E0 E3 E0 C-2 E0 E1 E0 C-3 E0 E0 E1 C-3 E0 E0 E0 [SEP] C-3 E1 E3 E1 C3 E0 E3 E2 C3 E0 E2 E3 C-1 E1 E0 E4 C2 E2 E2 E0 C-1 E3 E0 E0 C-3 E2 E1 E0 C-3 E0 E3 E0 C2 E2 E0 E0 C-2 E0 E1 E0 C-3 E0 E0 E1 C-1 E0 E0 E0', 'C-1 E1 E1 E0 C-2 E0 E1 E1 C-3 E0 E0 E2 C1 E0 E0 E1 [SEP] C-1 E1 E1 E0 C-2 E0 E1 E1 C-3 E0 E0 E2 C-1 E1 E0 E0 C1 E0 E0 E1', 'C-2 E0 E0 E1 C-2 E0 E0 E0 [SEP] C1 E0 E2 E2 C-2 E0 E0 E1 C-2 E0 E0 E0 [SEP] C2 E5 E1 E2 C1 E0 E2 E2 C2 E0 E3 E0 C3 E0 E1 E2 C-3 E2 E0 E0 C-2 E0 E0 E1 C-3 E0 E0 E0 [SEP] C2 E5 E1 E2 C1 E0 E2 E2 C2 E0 E3 E0 C3 E0 E1 E2 C-3 E2 E0 E0 C2 E1 E0 E0 C1 E0 E1 E0 C-3 E0 E0 E1 [SEP] C2 E5 E1 E2 C1 E3 E2 E0 C1 E0 E2 E2 C-2 E0 E0 E4 C2 E0 E3 E0 C3 E0 E1 E2 C2 E0 E0 E3 C-3 E2 E0 E0 C2 E1 E0 E0 C1 E0 E1 E0 C-2 E0 E0 E1 C1 E0 E0 E0', 'C1 E2 E0 E6 C-3 E0 E4 E0 [SEP] C1 E2 E0 E6 C-1 E0 E6 E1 C-3 E0 E4 E0 C-3 E0 E0 E0 [SEP] C-2 E5 E3 E0 C1 E2 E0 E6 C-1 E0 E6 E1 C1 E4 E0 E0 C-3 E0 E4 E0 C-2 E1 E1 E0 C-3 E0 E0 E0', 'C-2 E2 E5 E2 C-3 E1 E0 E2 C-2 E1 E0 E0 C2 E0 E0 E0 [SEP] C-2 E2 E5 E2 C1 E2 E1 E0 C-3 E1 E0 E2 C-2 E1 E0 E0 C-2 E0 E1 E0 C1 E0 E0 E0', 'C-2 E0 E6 E1 C-3 E4 E0 E3 C-2 E1 E1 E0 [SEP] C2 E0 E6 E4 C3 E5 E1 E2 C2 E6 E1 E0 C-2 E0 E6 E1 C-3 E4 E0 E3 C1 E2 E0 E5 C-2 E1 E1 E0 C2 E0 E2 E0 [SEP] C2 E0 E6 E4 C3 E5 E1 E2 C2 E6 E1 E0 C-2 E0 E6 E1 C-3 E4 E0 E3 C1 E2 E0 E5 C1 E3 E0 E3 C-3 E1 E2 E3 C-3 E5 E0 E0 C-2 E1 E1 E0 C2 E0 E2 E0 C-1 E0 E0 E0 [SEP] C2 E0 E6 E4 C3 E5 E1 E2 C-3 E1 E1 E6 C2 E6 E1 E0 C-2 E0 E6 E1 C-3 E4 E0 E3 C1 E2 E0 E5 C1 E3 E0 E3 C-3 E1 E2 E3 C-3 E5 E0 E0 C3 E0 E3 E1 C-3 E0 E2 E1 C-2 E1 E1 E0 C2 E0 E2 E0 C1 E0 E0 E1 C-1 E0 E0 E0', 'C-2 E0 E1 E2 C-2 E0 E0 E0 [SEP] C-2 E1 E1 E4 C2 E0 E1 E2 C-3 E0 E0 E2 C-3 E0 E1 E0 C3 E0 E0 E0 C-3 E0 E1 E0', 'C2 E2 E0 E0 C-1 E0 E1 E1 C1 E0 E0 E0 [SEP] C1 E2 E0 E1 C3 E1 E0 E2 C2 E2 E0 E0 C-1 E0 E1 E1 C2 E1 E0 E0 C-3 E0 E0 E1 C3 E0 E0 E0 [SEP] C1 E2 E0 E1 C3 E1 E0 E2 C2 E2 E0 E0 C-1 E0 E1 E1 C2 E1 E0 E0 C3 E0 E0 E0 [SEP] C-2 E0 E3 E0 C1 E2 E0 E1 C3 E1 E0 E2 C2 E2 E0 E0 C-1 E0 E1 E1 C2 E1 E0 E0 C-3 E0 E0 E0', 'C3 E1 E1 E0 [SEP] C2 E7 E0 E1 C2 E4 E0 E1 C3 E3 E1 E0 C-1 E1 E1 E1 C3 E1 E1 E0 C-2 E0 E0 E0 [SEP] C2 E7 E0 E1 C-1 E4 E2 E1 C3 E0 E1 E6 C2 E4 E0 E1 C-3 E0 E0 E5 C3 E3 E1 E0 C-1 E1 E1 E1 C3 E1 E1 E0 C2 E0 E0 E1 C-2 E0 E0 E0']\n",
      "['x1-2*x2 | -3*x0^3*x1^2*x2-x2^2+3*x1-2*x2 | -3*x0^3*x1^2*x2+x2^4-x2^2+3*x1-2*x2', '3*x0-2*x1 | 2*x0*x1+3*x2^2+x0-2*x1-3 | 2*x0*x1-2*x1*x2+3*x2^2+x0+2*x1+2*x2-3', '3*x1 | -x0*x1^3*x2^4-3*x0*x2-2*x2^2+3*x1', '-2*x0^3*x1*x2+2*x2^4+x0*x1 | -2*x0^3*x1*x2+2*x2^4+x0*x1-3*x0 | 2*x0^2*x1^2*x2^3+2*x2^4+x0^2*x1+x0*x1-3*x0 | 2*x0^2*x1^2*x2^3+2*x2^4+x0^2*x1+x0*x1+2*x0 | 2*x0^2*x1^2*x2^3+2*x2^4+x0^2*x1+x0*x1', '-3*x0*x1^3-3*x0*x1^2*x2-3*x1*x2-2*x2-2 | -3*x0*x1^3-3*x0*x1^2*x2-2*x0*x2^3-3*x1*x2+3*x1-3*x2-2 | -3*x0^4*x1*x2-3*x0^3*x1*x2^2+x0^2*x2^3-3*x0*x1^3-3*x0*x1^2*x2-2*x0*x2^3-3*x1*x2+3*x0+3*x1-3*x2 | -3*x0^4*x1*x2-3*x0^3*x1*x2^2+x0^2*x2^3-3*x0*x1^3-3*x0*x1^2*x2-2*x0*x2^3+2*x1^3-3*x0^2-3*x1*x2+3*x0+x1-3*x2 | -3*x0^4*x1*x2-3*x0^3*x1*x2^2+x0^2*x2^3-3*x0*x1^3-3*x0*x1^2*x2-2*x0*x2^3+2*x1^3-3*x0^2-3*x1*x2-2*x0+x1-3*x2', '3*x1^3*x2^4+3*x0*x2^3+3*x0^2*x2-2*x0*x1+3*x0 | 3*x1^3*x2^4+2*x0*x1^2*x2+3*x0*x2^3+3*x0^2*x2-2*x0*x1-x2^2+3*x0 | 3*x1^3*x2^4-2*x2^5+x1^4+2*x0*x1^2*x2+3*x0*x2^3+3*x0^2*x2-2*x0*x1-x2^2+3*x0 | 3*x1^3*x2^4-2*x2^5+x1^4+2*x0*x1^2*x2+3*x0*x2^3+3*x0^2*x2-2*x0*x1-x2^2-3*x0-2*x1+2*x2-1', '3*x0^2*x1^3+2*x0^3*x1-3*x2^2-2*x2-1 | 3*x0^2*x1^3+3*x1^3*x2^2+2*x0^3*x1-3*x2^2-2*x2-1', '-2*x0^3*x1^2*x2+2*x0 | -3*x0^3*x1^4-2*x0^3*x1^2*x2-x0*x1^3+2*x0-3*x1', '-x0^2*x1^2-2*x0^2*x2^2-x1*x2^3+3*x0*x2^2-3 | -x0^2*x1^2-2*x0^2*x2^2-x1*x2^3+3*x0*x2^2-x1-3', '-3*x0^2*x1^5*x2^2+2*x1^6*x2^2-2*x0*x1^3*x2^2 | -3*x0^2*x1^5*x2^2+2*x1^6*x2^2-2*x0*x1^3*x2^2-3*x0*x2+x2^2-3*x2+2 | -3*x0^2*x1^5*x2^2+x0^3*x1^3*x2^3+2*x1^6*x2^2-2*x0*x1^3*x2^2-3*x1^4*x2+3*x0*x2^3-3*x0*x2+3*x1*x2+x2^2-3*x1-3*x2+2', '2*x0*x1^4+x1*x2^4-x0^3*x2 | 2*x0*x1^4+x1*x2^4-x0^3*x2-3*x0^2+3*x0*x1-1', '-x0^6-2*x0^3*x1*x2^2+x0^2 | -x0^6-2*x0^3*x1*x2^2+3*x1^3+x0^2 | 3*x0^2*x1*x2^4-x0^6+3*x0*x1^4*x2-2*x0^3*x1*x2^2-3*x0*x1^2*x2^3+3*x1^3+x0^2+2*x2^2-3 | 3*x0^2*x1*x2^4-3*x2^7-x0^6+3*x0*x1^4*x2-2*x0^3*x1*x2^2-3*x0*x1^2*x2^3-x0*x1^4+3*x0^2*x2^2+3*x1^3-x1*x2^2+x0^2-3*x2^2-3', '-x0^2-2*x0-x1 | x1^5*x2^2-x0^3*x1*x2^2-3*x0^2*x1^2+3*x0*x2^3-x0^2+2*x0*x1-2*x0-x1 | x1^5*x2^2-x0^3*x1*x2^2-3*x0^2*x1^2+3*x0*x2^3-x0^2-2*x0-x1-1', '-x0^4*x2+x0 | x1^4*x2^5-x0^4*x1^4-x0^4*x2-2*x0*x1^3*x2-x0*x1+x0-2', '-2*x0*x1^4*x2^2+3*x0^5 | 3*x0^2*x1^3*x2^3-2*x0*x1^4*x2^2+3*x0^5-x1*x2^3-3 | 3*x0^2*x1^3*x2^3-2*x0*x1^4*x2^2+3*x0^5-x1*x2^3+2*x1^2-1 | 3*x0^2*x1^3*x2^3-2*x0*x1^4*x2^2+3*x0^5-x1*x2^3+x1^2-2*x1*x2-3*x0-1 | 3*x0^2*x1^3*x2^3-2*x0*x1^4*x2^2+3*x0^5-3*x0^3*x2-x1*x2^3+3*x0^3+x1^2-2*x1*x2-3*x0+2*x2+2', '3*x0 | x1*x2^4-2*x1^2*x2+3*x0+3 | x1*x2^4-2*x1^2*x2+x0-3*x2', '-2*x0*x2^2-3*x1 | -2*x0^2*x1^2*x2^2+3*x0*x2^4-3*x0*x1^2-2*x0*x2^2-x1*x2-3*x1-3 | -2*x0^2*x1^2*x2^2+3*x0*x2^4-3*x0*x1^2-2*x0*x2^2-x1*x2-3*x1+3*x2-3 | 2*x0^3*x1^6*x2-2*x0^2*x1^2*x2^2+3*x0*x2^4-3*x0*x1^2-2*x0*x2^2-x0*x1-x1*x2+2*x1+3*x2-1 | 2*x0^3*x1^6*x2-2*x0^2*x1^2*x2^2+3*x0*x2^4+2*x0^2*x1-3*x0*x1^2-2*x0*x2^2-x0*x1-x1*x2+2*x1+3*x2-1', '-2*x0-x1-x2 | x2^4+x2^3-2*x0+x1-x2 | x2^4+x2^3-2*x0+x1-3*x2+2', '2*x0*x1-x1^2-3 | 2*x0*x1-x1^2-3*x1-3 | 3*x0^5*x1-x0^5-3*x0^2*x2^3-3*x0*x2^4+x0*x1*x2+2*x0*x1-x1^2-3*x1-3', '-2*x0*x1+3*x1*x2+x1-1 | x2^3-3*x0*x1-x1^2-x0*x2+3*x1*x2+x1+3*x2-1 | x2^3-3*x0*x1-x1^2-x0*x2+3*x1*x2-x0+3*x1-2*x2+2', '3*x2 | -x1+3*x2 | -x0*x1*x2^2-x1+3*x2', 'x0-2 | -x0^2+x0-2 | -2*x0^3*x2^2-3*x0^2*x2^3+2*x1^4+x1^2*x2^2-x0^2+2*x0-2', '-x0-x2+3 | 2*x0+2*x2+3 | 2*x0^2*x1+x0*x1*x2+3*x1^2*x2-2*x0+2*x2 | -x1^4-3*x1^2*x2^2+2*x0^2*x1+x0*x1*x2+3*x1^2*x2-2*x0+2*x2+2', '-2*x0*x1^2*x2^3+2*x0*x1 | -2*x0*x1^2*x2^3+2*x0*x1+x0+2*x2 | -2*x0^3*x1*x2^2-2*x0*x1^2*x2^3-3*x1^3+2*x0*x1-x1^2+x0+2*x2 | -2*x0^3*x1*x2^2-2*x0*x1^2*x2^3+x0*x2^3-3*x1^3+2*x0*x1-x1^2-x1*x2+x0-x1+2*x2+3 | -2*x0^3*x1*x2^2-2*x0*x1^2*x2^3+x0*x2^3-3*x1^3+2*x0^2*x2+2*x0*x1-x1^2-x1*x2+x0-x1+2*x2-1', '2*x0*x2^4-x2 | -x0*x2^5+2*x0*x2^4-x2 | -x0*x2^5+2*x0*x2^4-x0*x1-2*x2 | -x0*x2^5+2*x0*x2^4+2*x0^2-x0*x1-x0*x2+3*x2^2-2*x1-2*x2', '-2*x0^2*x2-2*x0 | 2*x1^7-2*x0^2*x2-2*x0', 'x1^2*x2+2*x0^2-x0 | x0^5*x1*x2^2-2*x1^3+x1^2*x2+2*x0^2-x0 | x0^5*x1*x2^2+2*x0*x1^3*x2^2-2*x1*x2^3-2*x1^3+x1^2*x2+2*x0^2-x0 | x0^5*x1*x2^2+2*x0*x1^3*x2^2-2*x0^2*x1^2*x2-2*x1*x2^3-2*x1^3+x1^2*x2+2*x0^2-2*x1 | x0^5*x1*x2^2-x0^4*x1*x2^2+2*x0*x1^3*x2^2-x0^2*x1*x2^3+2*x0^4*x1-2*x0^2*x1^2*x2+x1^2*x2^2-2*x1*x2^3-2*x1^3+x1^2*x2+2*x0^2-x0-2*x1', '-2*x0*x1*x2^2 | -2*x0*x1*x2^2-2*x0^2*x1-3*x1^2*x2-x0^2-2*x0*x2-x1*x2', '3*x0 | -3*x1^3*x2^5+3*x0^4-x0-1 | -3*x1^3*x2^5-2*x1^5+3*x0^4-x0+3', '3*x0*x1^5*x2^4+3*x0^3*x1^3*x2-3*x1*x2^4-3*x0^2 | 3*x0*x1^5*x2^4-3*x1^9+3*x0^3*x1^3*x2-3*x1*x2^4-3*x0^2 | 3*x0*x1^5*x2^4-3*x1^9+3*x0^3*x1^2*x2^3+3*x0^3*x1^3*x2-3*x1*x2^4+2*x2^3-3*x0^2', 'x1^4*x2^3 | x1^4*x2^3-3*x1*x2 | x1^4*x2^3-3*x1*x2-x0+x1-3*x2-1 | x1^4*x2^3-x1*x2-x0+x1-3*x2-1 | x1^4*x2^3-2*x1^2-x1*x2-x0+x1-3*x2-1', 'x0^6*x1^2+x0 | x0^6*x1^2+2*x0^2*x1^2*x2+x0', '-x0^2*x1-3*x1^3-2*x1^2-3*x1 | -x0^2*x2^2-x0^2*x1-3*x1^3-2*x1^2-3*x1 | -3*x0^2*x1^3*x2^2-x0^2*x2^2-x0^2*x1-3*x1^3-2*x1^2+3*x1*x2-3*x1 | -3*x0^2*x1^3*x2^2-x0^2*x2^2-x0^2*x1-3*x1^3+3*x0*x1-2*x1^2+3*x1*x2', '-2*x0*x1^3-x0*x1*x2+x2^2-x1 | 2*x2^8-3*x0^4*x1^3-3*x0^2*x1^2*x2^3+3*x0^3*x2^2-2*x0*x1^3-x0*x1*x2+x2^2-3*x1 | 2*x2^8-3*x0^4*x1^3-3*x0^2*x1^2*x2^3+3*x0^3*x2^2-2*x1*x2^4-2*x0*x1^3-x0*x1*x2+x2^2-3*x1+3', '2*x1*x2^3+3*x1^2*x2+3*x0+2*x2 | 2*x1*x2^3+3*x1^2*x2+3*x0+x2 | 2*x1*x2^3+3*x1^2*x2+3*x0+3*x1-3*x2 | 2*x1*x2^3+x0^3+3*x1^2*x2+3*x1^2-2*x1*x2-3*x0+3*x1-3*x2', '-2*x0-3 | -2*x2^2-2*x0-x1+x2+1 | x0^3*x1^2-2*x2^2-2*x0-x1+x2+1 | x0^3*x1^2+2*x0*x1*x2^3-3*x1*x2^3-2*x2^2-2*x0-x1+x2+1 | x0^3*x1^2+2*x0*x1*x2^3-x0^2*x1*x2-3*x1*x2^3-3*x0*x1*x2-x0*x1-2*x2^2-x1+x2-1', '2*x1-3*x2 | -x0^2-x0+x1-x2-1 | -3*x0^2*x2^2+2*x0*x1^2+2*x1^2*x2-x0^2-x0+2*x1-x2-3 | 3*x0*x1*x2^4-2*x0*x1^2*x2-3*x0^2*x2^2+2*x0*x1^2+2*x1^2*x2-x0^2-2*x1*x2+x0+2*x1-x2-3 | 3*x0*x1*x2^4-2*x0*x1^2*x2-3*x0^2*x2^2+2*x0*x1^2+2*x1^2*x2-3*x0^2-2*x1*x2+x0-x1-x2-3+2*x2', '-3*x1^3*x2^4-3*x0*x2 | 3*x0^6*x1^2*x2-3*x1^3*x2^4+2*x0*x2^5-3*x0*x2 | 3*x0^6*x1^2*x2-3*x1^3*x2^4+2*x0*x2^5-3*x1^2*x2-2*x0*x1-3*x0*x2+2*x1-1', '3*x1+1 | x0-2*x1+2 | x0-3*x1+2 | -2*x0^3*x1^3*x2^2-x0*x2^7-2*x0*x1^2*x2^3+3*x0*x2^5+x0-3*x1+2 | -2*x0^3*x1^3*x2^2-x0*x2^7-2*x0*x1^2*x2^3+3*x0*x2^5-x0^3*x1^2+2*x0^2*x1^3-3*x0*x1*x2+3*x2^2+x0-3*x1+2', '-3*x0^2*x1^4+3*x0^3*x1^2-3 | 2*x2^10-2*x0*x1^3*x2^4-3*x0^2*x1^4+3*x0^3*x1^2-x0*x1^3+2', 'x1*x2 | -x0*x2+x1*x2-3*x0-x1-x2+1 | -x0*x2+x1*x2-x0-x1-x2+1 | x1^3*x2^2+x1^2-x0*x2+x1*x2-x0-x1-x2+1 | x1^3*x2^2-3*x0*x1^2*x2+x0^2-3*x0*x1+x1^2-x0*x2+x1*x2+x0-x1-x2-3', 'x0 | x2^4-x0*x2+x0+1 | 3*x0^4*x1^2*x2^3-3*x0*x1^5*x2-3*x0*x1^2*x2+x2^4-x0*x1*x2-x0*x2+x0+1 | 3*x0^4*x1^2*x2^3-3*x0*x1^5*x2-3*x0*x1^2*x2+x2^4-x0*x1*x2-x0*x2-2*x0+1 | 3*x0^4*x1^2*x2^3-3*x0*x1^5*x2-3*x0*x1^2*x2+x2^4-x0*x1*x2-x0*x2-x0+x2-3', '3*x2 | x2^2+3*x2-1 | 2*x0^2*x1*x2+3*x0*x1*x2^2+x2^2+3*x2+2 | 2*x0^2*x1*x2+3*x0*x1*x2^2+x2^2-x0+2*x1-2*x2-3', '-2*x0^6+2*x0*x1^4-x0^3*x1-x0*x1*x2 | -2*x0^6-x0*x1^4*x2+2*x0*x1^4-x0^3*x1-x0*x1*x2+x1*x2^2-3*x1 | -2*x0^6-x0*x1^4*x2+2*x0*x1^4-2*x0^4-x0^3*x1-x0*x1*x2+x1^2*x2+x1*x2^2+x0-3*x1 | -2*x0^6-x0*x1^4*x2+2*x0*x1^4-2*x0^4-x0^3*x1-x0*x1*x2+x1^2*x2+x1*x2^2+x1^2-x0*x2+3*x2^2+x0+2*x1+3 | -2*x0^6-x0*x1^4*x2+2*x0*x1^4-2*x0^4-x0^3*x1-2*x0^2*x1^2-x0*x1*x2+x1^2*x2+x1*x2^2+3*x0*x1+x1^2-x0*x2+3*x2^2+x0+2*x1-3', '-x0^2*x1^2-3*x0*x2^3+x0*x1-1 | -x0^2*x1^2-3*x0*x2^3+2*x0*x1*x2+x0*x1+3*x2^2-x1-x2+2', 'x0^7*x1^2*x2-2*x1^3 | x0^7*x1^2*x2+x0^3*x2+2*x0^3-2*x1^3 | x0^7*x1^2*x2+x0^3*x2+2*x0^3-2*x1^3+3*x2^2+2 | x0^7*x1^2*x2+x0^3*x2+2*x0^3-2*x1^3+3*x2^2-2*x2+2', '2*x0^2*x1^2*x2-2*x0^2-x1-2 | 2*x0^2*x1^2*x2-x1^3+3*x1*x2^2-2*x0^2-x1-x2-2', '3*x1 | -x0*x2^5+3*x1 | -x0*x2^5+2*x0*x1*x2-2*x0+3*x1+3', 'x1*x2 | -x0^3*x1^4*x2^2-x0*x1^7-3*x1^2*x2^5+3*x0*x1^2*x2+x1*x2 | -x0^3*x1^4*x2^2-x0*x1^7-3*x1^2*x2^5+x0^2*x1^2+3*x0*x1^2*x2-2*x1*x2-3*x2^2-x0+1', '-x0 | 2*x0^2*x2^2+3*x1^2*x2^2+3*x0^2*x2+2*x0^2-x0-2*x2 | 2*x0^2*x2^2+3*x1^2*x2^2+x0^2*x1+3*x0^2*x2+2*x0^2-x2^2-x0-2*x2+1 | -3*x0^2*x1^5+3*x0^2*x1*x2^3+2*x0^2*x2^2+3*x1^2*x2^2+x0^2*x1+3*x0^2*x2+2*x0*x2^2+2*x0^2-x2^2-x0-2*x2', '-2*x1^2-3*x0*x2+2 | x0^3*x1*x2-2*x1^2-3*x0*x2+2 | x0^3*x1*x2-2*x1^2-x0*x2+3*x1*x2+2*x2^2+2*x0-1', '3*x0*x2^2+x2 | 3*x0^3+3*x0*x2^2+3*x0^2+x2', '-3*x0^2*x1+3*x1^2*x2-1 | x0^4*x1*x2^2-3*x0^2*x1+3*x1^2*x2-1', '-x0^3*x2^5+2*x0^4*x1-2*x1 | -x0^3*x2^5+2*x0^4*x1+x0+3*x1+x2-2 | -3*x0^5*x1^4-x0^3*x2^5+2*x0^4*x1+x0+3*x1+x2-1', '2*x0^2*x2 | 2*x0^2*x2-3*x2 | x1*x2^6+2*x0^2*x2+3*x0*x1-3*x2', '-3*x0^2*x1+3*x1*x2-3*x2+3 | -3*x0^2*x1-3*x2+3 | 3*x1^3*x2^2-x0*x2^4-x0^3-3*x0^2*x1-3*x1^3-2*x1-3*x2+3 | -3*x0*x1^3*x2+3*x1^3*x2^2-x0*x2^4-x0^3-3*x0^2*x1-3*x1^3-2*x1-3*x2-3 | -3*x0*x1^3*x2+3*x1^3*x2^2+3*x1^2*x2^3-x0*x2^4+2*x0^2*x1^2-x0^3-3*x0^2*x1-3*x1^3+2*x0^2-2*x1-3*x2-1', '-x0*x1-2*x1*x2-3*x2^2+x2 | -x0*x1-2*x1*x2-3*x2^2-x0+x2', '-2*x2-2 | x1^2*x2^2-2*x2-2 | 2*x0^5*x1*x2^2+x1^2*x2^2+2*x1^3+3*x1*x2^2-3*x0^2-2*x2-3 | 2*x0^5*x1*x2^2+x1^2*x2^2+2*x1^3+3*x1*x2^2-3*x0^2+2*x0+x1-3*x2 | 2*x0^5*x1*x2^2+x0^3*x1^2+x1^2*x2^2-2*x2^4+2*x1^3+3*x1*x2^2+2*x2^3-3*x0^2+2*x0+x1-2*x2+1', 'x0^2*x2^6-3*x1^4 | x0^2*x2^6-x1^6*x2-3*x1^4-3 | -2*x0^5*x1^3+x0^2*x2^6-x1^6*x2+x0^4-3*x1^4-2*x0*x1-3', '-2*x0^2*x1^5*x2^2-3*x0*x2^2-2*x0+2 | -2*x0^2*x1^5*x2^2+x0^2*x1-3*x0*x2^2-2*x0-2*x1+1', '-2*x1^6*x2-3*x0^4*x2^3-2*x0*x1 | 2*x1^6*x2^4+3*x0^5*x1*x2^2+2*x0^6*x1-2*x1^6*x2-3*x0^4*x2^3+x0^2*x2^5-2*x0*x1+2*x1^2 | 2*x1^6*x2^4+3*x0^5*x1*x2^2+2*x0^6*x1-2*x1^6*x2-3*x0^4*x2^3+x0^2*x2^5+x0^3*x2^3-3*x0*x1^2*x2^3-3*x0^5-2*x0*x1+2*x1^2-1 | 2*x1^6*x2^4+3*x0^5*x1*x2^2-3*x0*x1*x2^6+2*x0^6*x1-2*x1^6*x2-3*x0^4*x2^3+x0^2*x2^5+x0^3*x2^3-3*x0*x1^2*x2^3-3*x0^5+3*x1^3*x2-3*x1^2*x2-2*x0*x1+2*x1^2+x2-1', '-2*x1*x2^2-2 | -2*x0*x1*x2^4+2*x1*x2^2-3*x2^2-3*x1+3-3*x1', '2*x0^2-x1*x2+1 | x0^2*x2+3*x0*x2^2+2*x0^2-x1*x2+2*x0-3*x2+3 | x0^2*x2+3*x0*x2^2+2*x0^2-x1*x2+2*x0+3 | -2*x1^3+x0^2*x2+3*x0*x2^2+2*x0^2-x1*x2+2*x0-3', '3*x0*x1 | 2*x0^7*x2+2*x0^4*x2+3*x0^3*x1-x0*x1*x2+3*x0*x1-2 | 2*x0^7*x2-x0^4*x1^2*x2+3*x1*x2^6+2*x0^4*x2-3*x2^5+3*x0^3*x1-x0*x1*x2+3*x0*x1+2*x2-2']\n"
     ]
    }
   ],
   "source": [
    "outputs = model.generate(**batch)\n",
    "decoded_texts = tokenizer.batch_decode(outputs, skip_special_tokens=True, clean_up_tokenization_spaces=True)\n",
    "print(decoded_texts)  # internal representation of polynomials\n",
    "\n",
    "from calt import PolynomialToInternalProcessor\n",
    "p2i = PolynomialToInternalProcessor(num_variables=cfg.data.num_variables, max_degree=cfg.data.max_degree, max_coeff=cfg.data.max_coeff)\n",
    "decoded_raw_texts = [p2i.decode(text) for text in decoded_texts]\n",
    "print(decoded_raw_texts)  # raw text of polynomials"
   ]
  },
  {
   "cell_type": "code",
   "execution_count": 35,
   "id": "de0bea6a",
   "metadata": {},
   "outputs": [
    {
     "name": "stdout",
     "output_type": "stream",
     "text": [
      "[x1 - 2*x2, -3*x0^3*x1^2*x2 - x2^2 + 3*x1 - 2*x2, -3*x0^3*x1^2*x2 + x2^4 - x2^2 + 3*x1 - 2*x2]\n"
     ]
    }
   ],
   "source": [
    "ring = PolynomialRing(GF(7), 3, \"x\", order=\"degrevlex\")\n",
    "\n",
    "F_text = decoded_raw_texts[0].split('|')\n",
    "F = [ring(text) for text in F_text]\n",
    "\n",
    "print(F)"
   ]
  }
 ],
 "metadata": {
  "kernelspec": {
   "display_name": "calt-env",
   "language": "python",
   "name": "python3"
  },
  "language_info": {
   "codemirror_mode": {
    "name": "ipython",
    "version": 3
   },
   "file_extension": ".py",
   "mimetype": "text/x-python",
   "name": "python",
   "nbconvert_exporter": "python",
   "pygments_lexer": "ipython3",
   "version": "3.12.11"
  }
 },
 "nbformat": 4,
 "nbformat_minor": 5
}
